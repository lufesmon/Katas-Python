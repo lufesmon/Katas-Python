{
 "cells": [
  {
   "cell_type": "code",
   "execution_count": 6,
   "metadata": {},
   "outputs": [
    {
     "name": "stdout",
     "output_type": "stream",
     "text": [
      "This temperature is in Celsius\n"
     ]
    }
   ],
   "source": [
    "text = \"\"\"Interesting facts about the Moon. The Moon is Earth's only satellite. There are several interesting facts about the Moon and how it affects life here on Earth. On average, the Moon moves 4cm away from the Earth every year. This yearly drift is not significant enough to cause immediate effects on Earth. The highest daylight temperature of the Moon is 127 C.\"\"\"\n",
    "parts = text.split()\n",
    "\n",
    "for i in parts:\n",
    "\n",
    "            value = i\n",
    "            #print(value)\n",
    "            if value.endswith(\"C.\"):\n",
    "                print(\"This temperature is in Celsius\")\n",
    "            # print('average' in value)\n",
    "            ##print(value.find('temperature'))\n",
    "            # print('temperature' in value)\n",
    "            ##print(value.find('distance'))\n",
    "            # print('distance' in value)\n",
    "            \n",
    "\n",
    "# parts[1]\n",
    "# 'Moon' in text"
   ]
  },
  {
   "cell_type": "code",
   "execution_count": 7,
   "metadata": {},
   "outputs": [
    {
     "name": "stdout",
     "output_type": "stream",
     "text": [
      " On average, the Moon moves 4cm away from the Earth every year\n",
      " The highest daylight temperature of the Moon is 127 C\n"
     ]
    }
   ],
   "source": [
    "text = \"\"\"Interesting facts about the Moon. The Moon is Earth's only satellite. There are several interesting facts about the Moon and how it affects life here on Earth. On average, the Moon moves 4cm away from the Earth every year. This yearly drift is not significant enough to cause immediate effects on Earth. The highest daylight temperature of the Moon is 127 C.\"\"\"\n",
    "parts = text.split('.')\n",
    "\n",
    "for i in parts:\n",
    "\n",
    "            value = i\n",
    "            #print(value)\n",
    "            #print(value.find('average' or 'temperature' or 'distance'))\n",
    "            if value.find('average') >=1  or value.find('temperature') >=1 or value.find('distance') >=1 :\n",
    "                print(value)\n",
    "            # print('average' in value)\n",
    "            ##print(value.find('temperature'))\n",
    "            # print('temperature' in value)\n",
    "            ##print(value.find('distance'))\n",
    "            # print('distance' in value)\n",
    "            \n",
    "\n",
    "# parts[1]\n",
    "# 'Moon' in text\n",
    "string = text.split()\n",
    "for i in string:\n",
    "    val = i\n",
    "    if val.endswith(\"C\"):\n",
    "        print(\"This temperature is in Celsius\")"
   ]
  },
  {
   "cell_type": "code",
   "execution_count": null,
   "metadata": {},
   "outputs": [],
   "source": [
    "planeta = 'Marte '\n",
    "gravedad  = 0.00143\n",
    "nombre = 'Ganímedes'"
   ]
  }
 ],
 "metadata": {
  "interpreter": {
   "hash": "421304393fce219c46853061b2cdd2ed68355cec6e47256f1190133cbad38501"
  },
  "kernelspec": {
   "display_name": "Python 3.10.2 64-bit",
   "language": "python",
   "name": "python3"
  },
  "language_info": {
   "codemirror_mode": {
    "name": "ipython",
    "version": 3
   },
   "file_extension": ".py",
   "mimetype": "text/x-python",
   "name": "python",
   "nbconvert_exporter": "python",
   "pygments_lexer": "ipython3",
   "version": "3.10.2"
  },
  "orig_nbformat": 4
 },
 "nbformat": 4,
 "nbformat_minor": 2
}
