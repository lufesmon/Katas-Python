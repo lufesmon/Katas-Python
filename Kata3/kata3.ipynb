{
 "cells": [
  {
   "cell_type": "markdown",
   "metadata": {},
   "source": [
    "## Un asteroide se acerca"
   ]
  },
  {
   "cell_type": "code",
   "execution_count": null,
   "metadata": {},
   "outputs": [],
   "source": [
    "# Tip de práctica 1: Intenta ejecutarlo en un notebook.\n",
    "velrock = 24 # velocidad asteroide\n",
    "veladv = 25 #velocidad alarmante\n",
    "# test expression / expresión de prueba\n",
    "if velrock >= veladv:\n",
    "    # statement to be run / instrucción a ejecutar\n",
    "    print(\"El asteroide viaja a: \" + str(velrock) + \" km/s, ADVERTENCIA\")\n",
    "else:\n",
    "    print(\"El asteroide viaja a: \" + str(velrock) + \" km/s no hace falta alarmarse\")"
   ]
  },
  {
   "cell_type": "markdown",
   "metadata": {},
   "source": [
    "## El asteroide ha entrado a la atmosfera de la tierra"
   ]
  },
  {
   "cell_type": "code",
   "execution_count": null,
   "metadata": {},
   "outputs": [],
   "source": [
    "# Tip de práctica 1: Intenta ejecutarlo en un notebook.\n",
    "velrock = 19 # velocidad asteroide\n",
    "veladv = 20 # velocidad en la que se ve el asteroide\n",
    "# test expression / expresión de prueba\n",
    "if velrock >= veladv:\n",
    "    # statement to be run / instrucción a ejecutar\n",
    "    print(\"El asteroide ha entrado a la atmosfera a una velocidad de: \" + str(velrock) + \" km/s, a esta velocidad debe ser visible un rayo de luz\")\n",
    "else:\n",
    "    print(\"El asteroide ha entrado a la atmosfera a una velocidad de: \" + str(velrock) + \" km/s a esta velocidad no debe verse\")"
   ]
  },
  {
   "cell_type": "code",
   "execution_count": null,
   "metadata": {},
   "outputs": [],
   "source": [
    "dimension = 26\n",
    "velocidad = 25\n",
    "\n",
    "if dimension >= 26 and velocidad >= 26:\n",
    "    print(\"Un asteroide de \"+ str(dimension) +\" metros de diametro, se dirije a la tiera a una velocidad de \"+ str(velocidad) +\"km/s\")\n",
    "    print(\"Advertir a la poblacion\")\n",
    "elif dimension >= 26 and velocidad <= 26:\n",
    "    print(\"Un asteroide de \"+ str(dimension) +\" metros de diametro, se dirije a la tiera a una velocidad de \"+ str(velocidad) +\"km/s\")\n",
    "    print(\"Esten atentos, el asteroide tiene un tamaño importante, si golpea puede causar mucho daño\")    \n",
    "elif dimension <= 26 and velocidad >= 26:\n",
    "    print(\"Un asteroide de \"+ str(dimension) +\" metros de diametro, se dirije a la tiera a una velocidad de \"+ str(velocidad) +\"km/s\")\n",
    "    print(\"Esten atentos, la velocidad de este asteroide es preocupante\")\n",
    "if dimension <= 25:\n",
    "    print(\"El asteroide se quemará en la atmosfera\")    \n",
    "if velocidad >=20:\n",
    "    print(\"Probablemente se vea un rayo de luz\")\n",
    "if dimension <= 25 and velocidad <= 25:\n",
    "    print(\"No hay peligro\")"
   ]
  }
 ],
 "metadata": {
  "interpreter": {
   "hash": "421304393fce219c46853061b2cdd2ed68355cec6e47256f1190133cbad38501"
  },
  "kernelspec": {
   "display_name": "Python 3.10.2 64-bit",
   "language": "python",
   "name": "python3"
  },
  "language_info": {
   "codemirror_mode": {
    "name": "ipython",
    "version": 3
   },
   "file_extension": ".py",
   "mimetype": "text/x-python",
   "name": "python",
   "nbconvert_exporter": "python",
   "pygments_lexer": "ipython3",
   "version": "3.10.2"
  },
  "orig_nbformat": 4
 },
 "nbformat": 4,
 "nbformat_minor": 2
}
