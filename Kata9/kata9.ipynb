{
 "cells": [
  {
   "cell_type": "code",
   "execution_count": 29,
   "metadata": {},
   "outputs": [
    {
     "name": "stdout",
     "output_type": "stream",
     "text": [
      "Fuel Report:\n",
      "    Total Average: 78.33333333333333%\n",
      "    Main tank: 80%\n",
      "    External tank: 70%\n",
      "    Hydrogen tank: 85% \n",
      "    \n",
      "\n",
      "    Mission to Moon\n",
      "    Total travel time: 65 minutes\n",
      "    Total fuel left: 500000 gallons\n",
      "    \n",
      "\n",
      "    Mission to Moon\n",
      "    Total travel time: 76 minutes\n",
      "    Total fuel left: 500000\n",
      "    \n",
      "\n",
      "    Mission to Moon\n",
      "    Total travel time: 74 minutes\n",
      "    Total fuel left: 500000\n",
      "    main tank --> 300000 gallons left\n",
      "external tank --> 200000 gallons left\n",
      "\n"
     ]
    }
   ],
   "source": [
    "def generate_report(main_tank, external_tank, hydrogen_tank):\n",
    "    total_average = (main_tank + external_tank + hydrogen_tank) / 3\n",
    "    return f\"\"\"Fuel Report:\n",
    "    Total Average: {total_average}%\n",
    "    Main tank: {main_tank}%\n",
    "    External tank: {external_tank}%\n",
    "    Hydrogen tank: {hydrogen_tank}% \n",
    "    \"\"\"\n",
    "print(generate_report(80, 70, 85))\n",
    "\n",
    "def average(values):\n",
    "    total = sum(values)\n",
    "    number_of_items = len(values)\n",
    "    return total / number_of_items\n",
    "\n",
    "average([80, 85, 81]) \n",
    "\n",
    "def mission_report(pre_launch_time, flight_time, destination, external_tank, main_tank):\n",
    "    return f\"\"\"\n",
    "    Mission to {destination}\n",
    "    Total travel time: {pre_launch_time + flight_time} minutes\n",
    "    Total fuel left: {external_tank + main_tank} gallons\n",
    "    \"\"\"\n",
    "\n",
    "print(mission_report(14, 51, \"Moon\", 200000, 300000))\n",
    "\n",
    "def mission_report(destination, *minutes, **fuel_reservoirs):\n",
    "    return f\"\"\"\n",
    "    Mission to {destination}\n",
    "    Total travel time: {sum(minutes)} minutes\n",
    "    Total fuel left: {sum(fuel_reservoirs.values())}\n",
    "    \"\"\"\n",
    "\n",
    "print(mission_report(\"Moon\", 10, 15, 51, main=300000, external=200000))\n",
    "\n",
    "def mission_report(destination, *minutes, **fuel_reservoirs):\n",
    "    main_report = f\"\"\"\n",
    "    Mission to {destination}\n",
    "    Total travel time: {sum(minutes)} minutes\n",
    "    Total fuel left: {sum(fuel_reservoirs.values())}\n",
    "    \"\"\"\n",
    "    for tank_name, gallons in fuel_reservoirs.items():\n",
    "        main_report += f\"{tank_name} tank --> {gallons} gallons left\\n\"\n",
    "    return main_report\n",
    "\n",
    "print(mission_report(\"Moon\", 8, 11, 55, main=300000, external=200000))"
   ]
  },
  {
   "cell_type": "code",
   "execution_count": 8,
   "metadata": {},
   "outputs": [
    {
     "name": "stdout",
     "output_type": "stream",
     "text": [
      "Hello!\n",
      "Hello Ada!\n"
     ]
    },
    {
     "data": {
      "text/plain": [
       "15"
      ]
     },
     "execution_count": 8,
     "metadata": {},
     "output_type": "execute_result"
    }
   ],
   "source": [
    "# función sin parámetros o retorno de valores\n",
    "def valtanque(tanque1, tanque2, tanque3):\n",
    "  tanque1 = 5\n",
    "  tanque2 = 10\n",
    "  tanque3 = 15\n",
    "  return ((tanque1 + tanque2 + tanque3)/3)\n",
    "\n",
    "print(valtanque())\n",
    "\n",
    "\n",
    "\n",
    "# función con un parámetro\n",
    "def holaConNombre(name):\n",
    "  print(\"Hello \" + name + \"!\")\n",
    "\n",
    "holaConNombre(\"Ada\")  # llamada a la función, 'Hello Ada!' se muestra en la consola\n",
    "\n",
    "# función con múltiples parámetros con una sentencia de retorno\n",
    "def multiplica(val1, val2):\n",
    "  return val1 * val2\n",
    "\n",
    "multiplica(3, 5)  # muestra 15 en la consola"
   ]
  }
 ],
 "metadata": {
  "interpreter": {
   "hash": "421304393fce219c46853061b2cdd2ed68355cec6e47256f1190133cbad38501"
  },
  "kernelspec": {
   "display_name": "Python 3.10.2 64-bit",
   "language": "python",
   "name": "python3"
  },
  "language_info": {
   "codemirror_mode": {
    "name": "ipython",
    "version": 3
   },
   "file_extension": ".py",
   "mimetype": "text/x-python",
   "name": "python",
   "nbconvert_exporter": "python",
   "pygments_lexer": "ipython3",
   "version": "3.10.2"
  },
  "orig_nbformat": 4
 },
 "nbformat": 4,
 "nbformat_minor": 2
}
