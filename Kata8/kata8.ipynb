{
 "cells": [
  {
   "cell_type": "code",
   "execution_count": 6,
   "metadata": {},
   "outputs": [
    {
     "name": "stdout",
     "output_type": "stream",
     "text": [
      "planeta Mars\n",
      "circunferencia polar 6792\n"
     ]
    }
   ],
   "source": [
    "planet = {\n",
    "    'name': 'Mars',\n",
    "    'mons': 2\n",
    "}\n",
    "#print(planet.get())\n",
    "#print(planet['name'])\n",
    "planet['polar'] = 6752\n",
    "planet['equatorial'] = 6792\n",
    "\n",
    "print('Planeta:', planet['name'])\n",
    "print('Circunferencia polar:', planet['equatorial'])\n"
   ]
  },
  {
   "cell_type": "code",
   "execution_count": 16,
   "metadata": {},
   "outputs": [
    {
     "name": "stdout",
     "output_type": "stream",
     "text": [
      "El sistema solar tiene 214 lunas en total\n",
      "Un total de 12 planetas\n",
      "y un promedio de 18 lunas\n"
     ]
    }
   ],
   "source": [
    "planet_moons = {\n",
    "    'mercury': 0,\n",
    "    'venus': 0,\n",
    "    'earth': 1,\n",
    "    'mars': 2,\n",
    "    'jupiter': 79,\n",
    "    'saturn': 82,\n",
    "    'uranus': 27,\n",
    "    'neptune': 14,\n",
    "    'pluto': 5,\n",
    "    'haumea': 2,\n",
    "    'makemake': 1,\n",
    "    'eris': 1\n",
    "}\n",
    "moons = 0\n",
    "for value in planet_moons.values():\n",
    "     moons = moons + value\n",
    "print(f'El sistema solar tiene {moons} lunas en total')\n",
    "print('Un total de', len(planet_moons), 'planetas')\n",
    "print('y un promedio de', round(moons/len(planet_moons)), 'lunas')"
   ]
  },
  {
   "cell_type": "code",
   "execution_count": 9,
   "metadata": {},
   "outputs": [
    {
     "name": "stdout",
     "output_type": "stream",
     "text": [
      "There was 9.8cm in the last quarter\n",
      "3\n"
     ]
    }
   ],
   "source": [
    "#Total de precipitaciones 0\n",
    "total_rainfall = 0\n",
    "rainfall = {\n",
    "    'october': 3.5,\n",
    "    'november': 4.2,\n",
    "    'december': 2.1\n",
    "}\n",
    "# Para cada valor en los valores de rainfall\n",
    "for value in rainfall.values():\n",
    "    \n",
    "    # El total de las precipitaciones será igual a ese mismo + el valor que se está iterando\n",
    "\n",
    "    total_rainfall = total_rainfall + value\n",
    "\n",
    "# Muestra 'Hay un total de precipitaciones (el valor total) en centímetros en el último cuarto (haciendo referencia al cuarto del año)\n",
    "\n",
    "print(f'There was {total_rainfall}cm in the last quarter')\n",
    "print(len(rainfall))"
   ]
  }
 ],
 "metadata": {
  "interpreter": {
   "hash": "421304393fce219c46853061b2cdd2ed68355cec6e47256f1190133cbad38501"
  },
  "kernelspec": {
   "display_name": "Python 3.10.2 64-bit",
   "language": "python",
   "name": "python3"
  },
  "language_info": {
   "codemirror_mode": {
    "name": "ipython",
    "version": 3
   },
   "file_extension": ".py",
   "mimetype": "text/x-python",
   "name": "python",
   "nbconvert_exporter": "python",
   "pygments_lexer": "ipython3",
   "version": "3.10.2"
  },
  "orig_nbformat": 4
 },
 "nbformat": 4,
 "nbformat_minor": 2
}
