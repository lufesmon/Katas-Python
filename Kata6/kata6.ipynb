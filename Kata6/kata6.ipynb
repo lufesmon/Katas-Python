{
 "cells": [
  {
   "cell_type": "code",
   "execution_count": 1,
   "metadata": {},
   "outputs": [
    {
     "name": "stdout",
     "output_type": "stream",
     "text": [
      "Pluton Es el ultimo planeta registrado\n",
      "['Mercurio', 'Venus', 'Tierra', 'Marte'] son los planetas mas cercanos al sol que Jupiter\n",
      "['Saturno', 'Urano', 'Neptuno', 'Pluton']  son los planetas mas alejados a al sol que Jupiter\n"
     ]
    }
   ],
   "source": [
    "planets = ['Mercurio', 'Venus', 'Tierra', 'Marte', 'Jupiter', 'Saturno', 'Urano', 'Neptuno']\n",
    "#print(planets)\n",
    "#print(len(planets))\n",
    "planets.append('Pluton')\n",
    "print(planets[-1], \"Es el ultimo planeta registrado\")\n",
    "#print(planets)\n",
    "#print(len(planets))\n",
    "uPlanet = input(\"ingresa tu planeta\")\n",
    "print(planets [0:planets.index(uPlanet)], \"son los planetas mas cercanos al sol que\", uPlanet)\n",
    "print(planets [planets.index(uPlanet)+1:], \" son los planetas mas alejados a al sol que\", uPlanet)\n"
   ]
  }
 ],
 "metadata": {
  "interpreter": {
   "hash": "421304393fce219c46853061b2cdd2ed68355cec6e47256f1190133cbad38501"
  },
  "kernelspec": {
   "display_name": "Python 3.10.2 64-bit",
   "language": "python",
   "name": "python3"
  },
  "language_info": {
   "codemirror_mode": {
    "name": "ipython",
    "version": 3
   },
   "file_extension": ".py",
   "mimetype": "text/x-python",
   "name": "python",
   "nbconvert_exporter": "python",
   "pygments_lexer": "ipython3",
   "version": "3.10.2"
  },
  "orig_nbformat": 4
 },
 "nbformat": 4,
 "nbformat_minor": 2
}
