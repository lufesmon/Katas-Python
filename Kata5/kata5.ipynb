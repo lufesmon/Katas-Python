{
 "cells": [
  {
   "cell_type": "markdown",
   "metadata": {},
   "source": []
  },
  {
   "cell_type": "code",
   "execution_count": 1,
   "metadata": {},
   "outputs": [
    {
     "name": "stdout",
     "output_type": "stream",
     "text": [
      "628949330\n",
      "390577534\n",
      "kilometros -198530865\n",
      "millas 123287667\n"
     ]
    }
   ],
   "source": [
    "dTierra = 149597870\n",
    "dJupiter = 778547200\n",
    "print(abs(dTierra-dJupiter))\n",
    "print(round(abs(dTierra-dJupiter)*0.621))\n",
    "\n",
    "\n",
    "p1 = input(\"¿Cual es la distancia del primer planeta?\")\n",
    "p2 = input(\"¿Cual es la distancia del segundo planeta?\")\n",
    "\n",
    "\n",
    "\n",
    "print('kilometros ' + str(int(p1)-int(p2)))\n",
    "print('millas ' + str(round(abs((int(p1)-int(p2))*0.621))))"
   ]
  }
 ],
 "metadata": {
  "interpreter": {
   "hash": "421304393fce219c46853061b2cdd2ed68355cec6e47256f1190133cbad38501"
  },
  "kernelspec": {
   "display_name": "Python 3.10.2 64-bit",
   "language": "python",
   "name": "python3"
  },
  "language_info": {
   "codemirror_mode": {
    "name": "ipython",
    "version": 3
   },
   "file_extension": ".py",
   "mimetype": "text/x-python",
   "name": "python",
   "nbconvert_exporter": "python",
   "pygments_lexer": "ipython3",
   "version": "3.10.2"
  },
  "orig_nbformat": 4
 },
 "nbformat": 4,
 "nbformat_minor": 2
}
